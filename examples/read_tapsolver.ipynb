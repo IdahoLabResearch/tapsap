{
 "cells": [
  {
   "cell_type": "code",
   "execution_count": 15,
   "source": [
    "import pandas as pd\n",
    "from tapsap import tapsolver\n",
    "import numpy as np\n",
    "from tapsap import utils"
   ],
   "outputs": [],
   "metadata": {}
  },
  {
   "cell_type": "code",
   "execution_count": 16,
   "source": [
    "input_path = '../tapsap/data/TAPsolver_input_file_exp.csv'\n",
    "data = pd.read_csv(input_path)\n",
    "print(data.keys())"
   ],
   "outputs": [
    {
     "output_type": "stream",
     "name": "stdout",
     "text": [
      "Index(['Reactor_Information', 'Unnamed: 1', 'Unnamed: 2', 'Unnamed: 3'], dtype='object')\n"
     ]
    }
   ],
   "metadata": {}
  },
  {
   "cell_type": "code",
   "execution_count": 17,
   "source": [
    "new_simulation = tapsolver.Simulation()\n",
    "new_simulation.advection_value = 'test'\n",
    "new_simulation.output_folder_name = 'test'\n",
    "new_simulation.zone_length = 'test'\n",
    "new_simulation.feed_time = 'test'\n",
    "new_simulation.surface_initial_concentration = 'test'\n",
    "new_simulation.left_links = 'test'\n",
    "new_simulation.linked_kinetics = 'test'"
   ],
   "outputs": [],
   "metadata": {}
  },
  {
   "cell_type": "code",
   "execution_count": 18,
   "source": [
    "start_of_reactor = 0\n",
    "start_of_feed = np.where(data.iloc[:,0].values == 'Feed_&_Surface_Composition')[0]\n",
    "start_of_surface = start_of_feed + 5\n",
    "start_of_reaction = np.where(data.iloc[:,0].values == 'Reaction_Information')[0]\n",
    "start_of_linked_kinetics = np.where(data.iloc[:,0].values == 'Linked Kinetics')[0]"
   ],
   "outputs": [],
   "metadata": {}
  },
  {
   "cell_type": "code",
   "execution_count": 19,
   "source": [
    "# reading in the reactor information\n",
    "for i in np.arange(start_of_reactor, start_of_feed - 1):\n",
    "    id_name = data.iloc[int(i), 0].lower().replace(' ', '_')\n",
    "    if 'zone' in id_name:\n",
    "        temp_attr_values = {'zone0': float(data.iloc[int(i),1]), 'zone1': float(data.iloc[int(i),1]), 'zone2': float(data.iloc[int(i),1])}\n",
    "    else:\n",
    "        temp_attr_values = utils.filter_xl(data.iloc[int(i), 1])\n",
    "\n",
    "    setattr(new_simulation, id_name, temp_attr_values)"
   ],
   "outputs": [],
   "metadata": {}
  },
  {
   "cell_type": "code",
   "execution_count": 20,
   "source": [
    "new_simulation.zone_length"
   ],
   "outputs": [
    {
     "output_type": "execute_result",
     "data": {
      "text/plain": [
       "{'zone0': 2.80718, 'zone1': 2.80718, 'zone2': 2.80718}"
      ]
     },
     "metadata": {},
     "execution_count": 20
    }
   ],
   "metadata": {}
  },
  {
   "cell_type": "code",
   "execution_count": 21,
   "source": [
    "# reading in the feed information\n",
    "for i in np.arange(start_of_feed + 1, start_of_surface - 1):\n",
    "    id_name = 'feed_' + str(data.iloc[int(i), 0]).lower().replace(' ', '_')\n",
    "    if i == (start_of_feed + 1):\n",
    "        id_name = 'feed_names'\n",
    "\n",
    "    temp_attr_values = {}\n",
    "    for j in np.arange(1, data.shape[1]):\n",
    "        temp_feed_id = 'feed_' + str(j - 1)\n",
    "        temp_attr_values[temp_feed_id] = utils.filter_xl(data.iloc[int(i), int(j)])\n",
    "        \n",
    "    setattr(new_simulation, id_name, temp_attr_values)"
   ],
   "outputs": [],
   "metadata": {}
  },
  {
   "cell_type": "code",
   "execution_count": 22,
   "source": [
    "new_simulation.feed_time"
   ],
   "outputs": [
    {
     "output_type": "execute_result",
     "data": {
      "text/plain": [
       "{'feed_0': 0, 'feed_1': 0.1, 'feed_2': 0}"
      ]
     },
     "metadata": {},
     "execution_count": 22
    }
   ],
   "metadata": {}
  },
  {
   "cell_type": "code",
   "execution_count": 23,
   "source": [
    "# reading in the surface information\n",
    "for i in np.arange(start_of_surface + 1, start_of_reaction - 1):\n",
    "    id_name = 'surface_' + str(data.iloc[int(i), 0]).lower().replace(' ', '_')\n",
    "    if i == (start_of_surface + 1):\n",
    "        id_name = 'surface_names'\n",
    "\n",
    "    temp_attr_values = {}\n",
    "    for j in np.arange(1, data.shape[1]):\n",
    "        temp_surface_id = 'surface_' + str(j - 1)\n",
    "        temp_attr_values[temp_surface_id] = utils.filter_xl(data.iloc[int(i), int(j)])\n",
    "        \n",
    "    setattr(new_simulation, id_name, temp_attr_values)"
   ],
   "outputs": [],
   "metadata": {}
  },
  {
   "cell_type": "code",
   "execution_count": 24,
   "source": [
    "new_simulation.surface_initial_concentration"
   ],
   "outputs": [
    {
     "output_type": "execute_result",
     "data": {
      "text/plain": [
       "{'surface_0': 0, 'surface_1': 0, 'surface_2': 30}"
      ]
     },
     "metadata": {},
     "execution_count": 24
    }
   ],
   "metadata": {}
  },
  {
   "cell_type": "code",
   "execution_count": 25,
   "source": [
    "# reading in the reaction information\n",
    "temp_steps = {}\n",
    "temp_left_links = {}\n",
    "temp_right_links = {}\n",
    "flag = 0\n",
    "for i in np.arange(start_of_reaction + 1, start_of_linked_kinetics - 1):\n",
    "    id_name = 'step_' + str(flag)\n",
    "    temp_steps[id_name] = utils.filter_xl(data.iloc[int(i), 0])\n",
    "    temp_left_links[id_name] = utils.filter_xl(data.iloc[int(i), 1])\n",
    "    temp_right_links[id_name] = utils.filter_xl(data.iloc[int(i), 2])\n",
    "    flag += 1\n",
    "            \n",
    "setattr(new_simulation, 'steps', temp_steps)\n",
    "setattr(new_simulation, 'left_links', temp_left_links)\n",
    "setattr(new_simulation, 'right_links', temp_right_links)"
   ],
   "outputs": [],
   "metadata": {}
  },
  {
   "cell_type": "code",
   "execution_count": 26,
   "source": [
    "new_simulation.left_links"
   ],
   "outputs": [
    {
     "output_type": "execute_result",
     "data": {
      "text/plain": [
       "{'step_0': '{a}', 'step_1': '{a}', 'step_2': '{c}'}"
      ]
     },
     "metadata": {},
     "execution_count": 26
    }
   ],
   "metadata": {}
  },
  {
   "cell_type": "code",
   "execution_count": 27,
   "source": [
    "# reading in the linked kinetics information\n",
    "temp_link_names = {}\n",
    "temp_linked_kinetics = {}\n",
    "flag = 0\n",
    "for i in np.arange(start_of_linked_kinetics + 1, data.shape[0]):\n",
    "    id_name = 'link_' + str(flag)\n",
    "    temp_link_names[id_name] = utils.filter_xl(data.iloc[int(i), 0])\n",
    "    temp_linked_kinetics[id_name] = utils.filter_xl(data.iloc[int(i), 1])\n",
    "    flag += 1\n",
    "            \n",
    "setattr(new_simulation, 'link_names', temp_link_names)\n",
    "setattr(new_simulation, 'linked_kinetics', temp_linked_kinetics)"
   ],
   "outputs": [],
   "metadata": {}
  },
  {
   "cell_type": "code",
   "execution_count": 28,
   "source": [
    "new_simulation.linked_kinetics"
   ],
   "outputs": [
    {
     "output_type": "execute_result",
     "data": {
      "text/plain": [
       "{'link_0': 4, 'link_1': 1, 'link_2': 10, 'link_3': 0.2}"
      ]
     },
     "metadata": {},
     "execution_count": 28
    }
   ],
   "metadata": {}
  }
 ],
 "metadata": {
  "orig_nbformat": 4,
  "language_info": {
   "name": "python",
   "version": "3.8.10",
   "mimetype": "text/x-python",
   "codemirror_mode": {
    "name": "ipython",
    "version": 3
   },
   "pygments_lexer": "ipython3",
   "nbconvert_exporter": "python",
   "file_extension": ".py"
  },
  "kernelspec": {
   "name": "python3",
   "display_name": "Python 3.8.10 64-bit ('py38': conda)"
  },
  "interpreter": {
   "hash": "7c811737497fad607f6e60648a40ae1677b4d90f87b596bb9e96e9bdf119da0c"
  }
 },
 "nbformat": 4,
 "nbformat_minor": 2
}