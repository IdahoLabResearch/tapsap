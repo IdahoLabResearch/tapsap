{
 "cells": [
  {
   "cell_type": "markdown",
   "source": [
    "## Structures\n",
    "\n",
    "This is a brief tour of the data structures within tapsap.  Currently there are four main components (classes) contained in tapsap: Experiment, Reactor, Simulation, and Transient.  The Experiment class is a container for meta data and the set of Transient classes (species_data). "
   ],
   "metadata": {}
  },
  {
   "cell_type": "code",
   "execution_count": 1,
   "source": [
    "import tapsap\n",
    "new_experiment = tapsap.Experiment()\n",
    "print(new_experiment.__dict__)"
   ],
   "outputs": [
    {
     "output_type": "stream",
     "name": "stdout",
     "text": [
      "{'file_name': 'no_file_name', 'collection_time': 1, 'pulse_spacing': 1, 'time_start': 0, 'time_end': 1, 'num_samples_per_pulse': 100, 'species_data': {}, 'reactor': <tapsap.structures.Reactor.Reactor object at 0x7fb03de51f10>}\n"
     ]
    }
   ],
   "metadata": {}
  },
  {
   "cell_type": "markdown",
   "source": [
    "The Reactor class contains all of the information that deal reactor dimensions, catalyst weights, mol pulsed, and the diffusion parameters per zone."
   ],
   "metadata": {}
  },
  {
   "cell_type": "code",
   "execution_count": 2,
   "source": [
    "new_reactor = tapsap.Reactor()\n",
    "print(new_reactor.__dict__)"
   ],
   "outputs": [
    {
     "output_type": "stream",
     "name": "stdout",
     "text": [
      "{'zone_lengths': {'zone0': 0.02, 'zone1': 0.00075, 'zone2': 0.02}, 'zone_porosity': {'zone0': 0.4, 'zone1': 0.4, 'zone2': 0.4}, 'zone_diffusion': {'zone0': 0.002, 'zone1': 0.002, 'zone2': 0.002}, 'zone_residence_time': {'zone0': 0.5, 'zone1': 0.5, 'zone2': 0.5}, 'reactor_radius': 0.002, 'catalyst_weight': 1, 'mol_per_pulse': 1}\n"
     ]
    }
   ],
   "metadata": {}
  },
  {
   "cell_type": "markdown",
   "source": [
    "The Transient class is where most of the work is actually performed.  This includes preprocessing, moments, and transient analysis.  All of the Transient classes are contained in the experiment species data."
   ],
   "metadata": {}
  },
  {
   "cell_type": "code",
   "execution_count": 3,
   "source": [
    "new_transient = tapsap.Transient()\n",
    "print(new_transient.__dict__)"
   ],
   "outputs": [
    {
     "output_type": "stream",
     "name": "stdout",
     "text": [
      "{'name': 'AMU_40_1', 'mass': 40, 'gain': 9, 'delay_time': 0, 'flux': None, 'smoothed_flux': None, 'times': None, 'diffusion': 0.5, 'amount_pulsed': 1, 'initial_concentration': 0, 'num_pulse': 1, 'df_moments': None, 'reactor': <tapsap.structures.Reactor.Reactor object at 0x7fb03de82c70>, 'reference_gas': None, 'integration_times': [0, 3], 'num_cores': 7}\n"
     ]
    }
   ],
   "metadata": {}
  }
 ],
 "metadata": {
  "orig_nbformat": 4,
  "language_info": {
   "name": "python",
   "version": "3.8.10",
   "mimetype": "text/x-python",
   "codemirror_mode": {
    "name": "ipython",
    "version": 3
   },
   "pygments_lexer": "ipython3",
   "nbconvert_exporter": "python",
   "file_extension": ".py"
  },
  "kernelspec": {
   "name": "python3",
   "display_name": "Python 3.8.10 64-bit ('py38': conda)"
  },
  "interpreter": {
   "hash": "7c811737497fad607f6e60648a40ae1677b4d90f87b596bb9e96e9bdf119da0c"
  }
 },
 "nbformat": 4,
 "nbformat_minor": 2
}