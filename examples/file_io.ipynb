{
 "cells": [
  {
   "cell_type": "markdown",
   "source": [
    "## File_io (in out)\n",
    "\n",
    "This brief example demonstrates how to read and write information from tapsap.  Currently, the only supported file types for reading in data is from an Excel that was generated from tapsap and a tdms file.  Files can be exported to an  Excel file."
   ],
   "metadata": {}
  },
  {
   "cell_type": "code",
   "execution_count": 2,
   "source": [
    "# reading a tdms\n",
    "import tapsap\n",
    "\n",
    "data = tapsap.read_tdms('../tapsap/data/argon_100C.tdms')\n",
    "print(data.num_samples_per_pulse)\n",
    "\n",
    "# reading an xlsx\n",
    "data = tapsap.read_tdms('../tapsap/data/argon_100C.xlsx')"
   ],
   "outputs": [
    {
     "output_type": "stream",
     "name": "stdout",
     "text": [
      "2500\n"
     ]
    }
   ],
   "metadata": {}
  },
  {
   "cell_type": "code",
   "execution_count": null,
   "source": [
    "# Writing an excel\n",
    "# this line is commented so that data won't be overwritten\n",
    "# tapsap.write_xlsx(data,'test.xlsx')"
   ],
   "outputs": [],
   "metadata": {}
  }
 ],
 "metadata": {
  "orig_nbformat": 4,
  "language_info": {
   "name": "python",
   "version": "3.8.10",
   "mimetype": "text/x-python",
   "codemirror_mode": {
    "name": "ipython",
    "version": 3
   },
   "pygments_lexer": "ipython3",
   "nbconvert_exporter": "python",
   "file_extension": ".py"
  },
  "kernelspec": {
   "name": "python3",
   "display_name": "Python 3.8.10 64-bit ('py38': conda)"
  },
  "interpreter": {
   "hash": "7c811737497fad607f6e60648a40ae1677b4d90f87b596bb9e96e9bdf119da0c"
  }
 },
 "nbformat": 4,
 "nbformat_minor": 2
}